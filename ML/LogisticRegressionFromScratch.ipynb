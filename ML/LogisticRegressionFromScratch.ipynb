{
  "nbformat": 4,
  "nbformat_minor": 0,
  "metadata": {
    "colab": {
      "provenance": [],
      "authorship_tag": "ABX9TyNQ6Wa/0aI+/evDsZD+UST6",
      "include_colab_link": true
    },
    "kernelspec": {
      "name": "python3",
      "display_name": "Python 3"
    },
    "language_info": {
      "name": "python"
    }
  },
  "cells": [
    {
      "cell_type": "markdown",
      "metadata": {
        "id": "view-in-github",
        "colab_type": "text"
      },
      "source": [
        "<a href=\"https://colab.research.google.com/github/maverick2903/SEM6_Programs/blob/main/ML/LogisticRegressionFromScratch.ipynb\" target=\"_parent\"><img src=\"https://colab.research.google.com/assets/colab-badge.svg\" alt=\"Open In Colab\"/></a>"
      ]
    },
    {
      "cell_type": "code",
      "source": [
        "import numpy as np"
      ],
      "metadata": {
        "id": "QlDevY34dT_X"
      },
      "execution_count": null,
      "outputs": []
    },
    {
      "cell_type": "code",
      "execution_count": null,
      "metadata": {
        "id": "emQ7RrX1buwh"
      },
      "outputs": [],
      "source": [
        "class LogisticRegression:\n",
        "    def __init__(self, learning_rate=0.001, n_iters=1000):\n",
        "        self.lr = learning_rate\n",
        "        self.n_iters = n_iters\n",
        "        self.weights = None\n",
        "        self.bias = None\n",
        "        self.losses = []\n",
        "\n",
        "    #Sigmoid function\n",
        "    def _sigmoid(self, x):\n",
        "        return 1 / (1 + np.exp(-x))\n",
        "\n",
        "    def compute_loss(self, y_true, y_pred):\n",
        "        # binary cross entropy\n",
        "        epsilon = 1e-9\n",
        "        y1 = y_true * np.log(y_pred + epsilon)\n",
        "        y2 = (1-y_true) * np.log(1 - y_pred + epsilon)\n",
        "        return -np.mean(y1 + y2)\n",
        "\n",
        "    def feed_forward(self,X):\n",
        "        z = np.dot(X, self.weights) + self.bias\n",
        "        A = self._sigmoid(z)\n",
        "        return A\n",
        "\n",
        "    def fit(self, X, y):\n",
        "        n_samples, n_features = X.shape\n",
        "\n",
        "        # init parameters\n",
        "        self.weights = np.zeros(n_features)\n",
        "        self.bias = 0\n",
        "\n",
        "        # gradient descent\n",
        "        for _ in range(self.n_iters):\n",
        "            A = self.feed_forward(X)\n",
        "            self.losses.append(self.compute_loss(y,A))\n",
        "            dz = A - y # derivative of sigmoid and bce X.T*(A-y)\n",
        "            # compute gradients\n",
        "            dw = (1 / n_samples) * np.dot(X.T, dz)\n",
        "            db = (1 / n_samples) * np.sum(dz)\n",
        "            # update parameters\n",
        "            self.weights -= self.lr * dw\n",
        "            self.bias -= self.lr * db\n",
        "\n",
        "    def predict(self, X):\n",
        "        threshold = .5\n",
        "        y_hat = np.dot(X, self.weights) + self.bias\n",
        "        y_predicted = self._sigmoid(y_hat)\n",
        "        y_predicted_cls = [1 if i > threshold else 0 for i in y_predicted]\n",
        "\n",
        "        return np.array(y_predicted_cls)"
      ]
    },
    {
      "cell_type": "code",
      "source": [
        "from sklearn.model_selection import train_test_split\n",
        "from sklearn.metrics import confusion_matrix, accuracy_score\n",
        "from sklearn import datasets\n",
        "\n",
        "dataset = datasets.load_breast_cancer()\n",
        "X, y = dataset.data, dataset.target\n",
        "\n",
        "X, y = dataset.data, dataset.target\n",
        "X_train, X_test, y_train, y_test = train_test_split(\n",
        "    X, y, test_size=0.2, random_state=1234\n",
        ")\n",
        "\n",
        "regressor = LogisticRegression(learning_rate=0.01, n_iters=1000)\n",
        "regressor.fit(X_train, y_train)\n",
        "predictions = regressor.predict(X_test)\n",
        "sc = accuracy_score(y_test,predictions)\n",
        "print(sc)\n"
      ],
      "metadata": {
        "colab": {
          "base_uri": "https://localhost:8080/"
        },
        "id": "MX66yUggc8B1",
        "outputId": "cd0bf3c1-b89c-4dd4-85a9-0060f9c39ea6"
      },
      "execution_count": null,
      "outputs": [
        {
          "output_type": "stream",
          "name": "stderr",
          "text": [
            "<ipython-input-27-9c4ecaa10477>:11: RuntimeWarning: overflow encountered in exp\n",
            "  return 1 / (1 + np.exp(-x))\n"
          ]
        },
        {
          "output_type": "stream",
          "name": "stdout",
          "text": [
            "0.9210526315789473\n"
          ]
        }
      ]
    },
    {
      "cell_type": "code",
      "source": [
        "\n",
        "import numpy as np\n",
        "import numpy as np\n",
        "from scipy.interpolate import make_interp_spline\n",
        "import matplotlib.pyplot as plt\n",
        "\n",
        "# x = np.array([i for i in range(1000)])\n",
        "# y = np.array(regressor.losses)\n",
        "\n",
        "# X_Y_Spline = make_interp_spline(x, y)\n",
        "\n",
        "# # Returns evenly spaced numbers\n",
        "# # over a specified interval.\n",
        "# X_ = np.linspace(x.min(), x.max(), 500)\n",
        "# Y_ = X_Y_Spline(X_)\n",
        "\n",
        "X_ = [i for i in range(1000)]\n",
        "Y_ = regressor.losses\n",
        "# Plotting the Graph\n",
        "plt.plot(Y_)\n",
        "plt.title(\"Plot Smooth Curve Using the scipy.interpolate.make_interp_spline() Class\")\n",
        "plt.xlabel(\"X\")\n",
        "plt.ylabel(\"Y\")\n",
        "plt.show()"
      ],
      "metadata": {
        "colab": {
          "base_uri": "https://localhost:8080/",
          "height": 472
        },
        "id": "5SNi9M9KpgbH",
        "outputId": "a7071222-0ab4-4bb4-cb12-a7370b9801fc"
      },
      "execution_count": null,
      "outputs": [
        {
          "output_type": "display_data",
          "data": {
            "text/plain": [
              "<Figure size 640x480 with 1 Axes>"
            ],
            "image/png": "[encoded data removed]"
          },
          "metadata": {}
        }
      ]
    },
    {
      "cell_type": "code",
      "source": [
        "Y_[:10]"
      ],
      "metadata": {
        "colab": {
          "base_uri": "https://localhost:8080/"
        },
        "id": "g7kss-XArVbZ",
        "outputId": "3c5a9458-061f-49cc-a1e2-4d95e394f36c"
      },
      "execution_count": null,
      "outputs": [
        {
          "output_type": "execute_result",
          "data": {
            "text/plain": [
              "[0.6931471785599452,\n",
              " 13.117144089832015,\n",
              " 7.606121746114398,\n",
              " 13.117144089832015,\n",
              " 7.606121746114398,\n",
              " 13.117144089832015,\n",
              " 7.606121746114398,\n",
              " 13.117144089832015,\n",
              " 13.117144089832015,\n",
              " 7.606121746114398]"
            ]
          },
          "metadata": {},
          "execution_count": 31
        }
      ]
    }
  ]
}