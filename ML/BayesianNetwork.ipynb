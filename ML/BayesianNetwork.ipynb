{
  "nbformat": 4,
  "nbformat_minor": 0,
  "metadata": {
    "colab": {
      "provenance": [],
      "authorship_tag": "ABX9TyPdLIQ9/1ZgyY+OpUog7+TV",
      "include_colab_link": true
    },
    "kernelspec": {
      "name": "python3",
      "display_name": "Python 3"
    },
    "language_info": {
      "name": "python"
    }
  },
  "cells": [
    {
      "cell_type": "markdown",
      "metadata": {
        "id": "view-in-github",
        "colab_type": "text"
      },
      "source": [
        "<a href=\"https://colab.research.google.com/github/maverick2903/SEM6_Programs/blob/main/ML/BayesianNetwork.ipynb\" target=\"_parent\"><img src=\"https://colab.research.google.com/assets/colab-badge.svg\" alt=\"Open In Colab\"/></a>"
      ]
    },
    {
      "cell_type": "code",
      "source": [
        "!pip install pgmpy -q"
      ],
      "metadata": {
        "id": "6WQ6u7WB3mWD"
      },
      "execution_count": null,
      "outputs": []
    },
    {
      "cell_type": "code",
      "execution_count": null,
      "metadata": {
        "colab": {
          "base_uri": "https://localhost:8080/"
        },
        "id": "kcyDd1wN2MU_",
        "outputId": "6eb155e5-58b1-4394-ccd8-3a59fd0cbeaf"
      },
      "outputs": [
        {
          "output_type": "stream",
          "name": "stdout",
          "text": [
            "BayesianNetwork with 5 nodes and 4 edges\n"
          ]
        }
      ],
      "source": [
        "from pgmpy.models import BayesianNetwork\n",
        "from pgmpy.factors.discrete import TabularCPD\n",
        "\n",
        "model = BayesianNetwork([('Burglary','Alarm'),('Earthquake','Alarm'),('Alarm','JohnCalls'),('Alarm','MaryCalls')])\n",
        "\n",
        "# P(Burglary)\n",
        "cpd_burglary = TabularCPD(variable='Burglary',variable_card=2, values=[[0.001], [0.999]])\n",
        "\n",
        "# P(Earthquake)\n",
        "cpd_earthquake = TabularCPD(variable='Earthquake',variable_card=2, values=[[0.002], [0.998]])\n",
        "\n",
        "# P(Alarm | Burglary, Earthquake)\n",
        "cpd_alarm = TabularCPD(variable='Alarm',variable_card=2, values=[[0.95,0.94,0.29,0.001],[0.05,0.06,0.71,0.999]],evidence=['Burglary', 'Earthquake'],evidence_card=[2,2])\n",
        "\n",
        "# P(JohnCalls | Alarm)\n",
        "cpd_johncalls = TabularCPD(variable='JohnCalls',variable_card=2, values=[\n",
        "    [0.9, 0.05,], [0.10, 0.95,]\n",
        "],evidence=['Alarm'],evidence_card=[2])\n",
        "\n",
        "# P(MaryCalls | Alarm)\n",
        "cpd_marycalls = TabularCPD(variable='MaryCalls',variable_card=2, values=[\n",
        "    [0.7, 0.01,], [0.30, 0.99,]\n",
        "],evidence=['Alarm'],evidence_card=[2])\n",
        "\n",
        "\n",
        "model.add_cpds(cpd_burglary, cpd_earthquake, cpd_alarm, cpd_johncalls, cpd_marycalls)\n",
        "\n",
        "print(model)\n"
      ]
    },
    {
      "cell_type": "code",
      "source": [
        "print(\"Burglary probability distribution\")\n",
        "print(cpd_burglary)\n",
        "print()\n",
        "print(\"Earthquake probability distribution\")\n",
        "print(cpd_earthquake)\n",
        "print()\n",
        "print(\"Burglary probability distribution\")\n",
        "print(cpd_alarm)\n",
        "print()\n",
        "print(\"Mary Calls probability distributioSn\")\n",
        "print(cpd_marycalls)\n",
        "print()\n",
        "print(\"John Calls probability distribution\")\n",
        "print(cpd_johncalls)"
      ],
      "metadata": {
        "colab": {
          "base_uri": "https://localhost:8080/"
        },
        "id": "DMrXLtlABps5",
        "outputId": "ff2c7bf3-877f-450f-c569-1cefb3b765c9"
      },
      "execution_count": null,
      "outputs": [
        {
          "output_type": "stream",
          "name": "stdout",
          "text": [
            "Burglary probability distribution\n",
            "+-------------+-------+\n",
            "| Burglary(0) | 0.001 |\n",
            "+-------------+-------+\n",
            "| Burglary(1) | 0.999 |\n",
            "+-------------+-------+\n",
            "\n",
            "Earthquake probability distribution\n",
            "+---------------+-------+\n",
            "| Earthquake(0) | 0.002 |\n",
            "+---------------+-------+\n",
            "| Earthquake(1) | 0.998 |\n",
            "+---------------+-------+\n",
            "\n",
            "Burglary probability distribution\n",
            "+------------+---------------+---------------+---------------+---------------+\n",
            "| Burglary   | Burglary(0)   | Burglary(0)   | Burglary(1)   | Burglary(1)   |\n",
            "+------------+---------------+---------------+---------------+---------------+\n",
            "| Earthquake | Earthquake(0) | Earthquake(1) | Earthquake(0) | Earthquake(1) |\n",
            "+------------+---------------+---------------+---------------+---------------+\n",
            "| Alarm(0)   | 0.95          | 0.94          | 0.29          | 0.001         |\n",
            "+------------+---------------+---------------+---------------+---------------+\n",
            "| Alarm(1)   | 0.05          | 0.06          | 0.71          | 0.999         |\n",
            "+------------+---------------+---------------+---------------+---------------+\n",
            "\n",
            "Mary Calls probability distribution\n",
            "+--------------+----------+----------+\n",
            "| Alarm        | Alarm(0) | Alarm(1) |\n",
            "+--------------+----------+----------+\n",
            "| MaryCalls(0) | 0.7      | 0.01     |\n",
            "+--------------+----------+----------+\n",
            "| MaryCalls(1) | 0.3      | 0.99     |\n",
            "+--------------+----------+----------+\n",
            "\n",
            "John Calls probability distribution\n",
            "+--------------+----------+----------+\n",
            "| Alarm        | Alarm(0) | Alarm(1) |\n",
            "+--------------+----------+----------+\n",
            "| JohnCalls(0) | 0.9      | 0.05     |\n",
            "+--------------+----------+----------+\n",
            "| JohnCalls(1) | 0.1      | 0.95     |\n",
            "+--------------+----------+----------+\n"
          ]
        }
      ]
    },
    {
      "cell_type": "code",
      "source": [
        "print(f\"Verify Model: {model.check_model()}\")"
      ],
      "metadata": {
        "colab": {
          "base_uri": "https://localhost:8080/"
        },
        "id": "T3gVp8IT9kvA",
        "outputId": "5247a68a-80f8-4b82-c179-058e722af8d5"
      },
      "execution_count": null,
      "outputs": [
        {
          "output_type": "stream",
          "name": "stdout",
          "text": [
            "Verify Model: True\n"
          ]
        }
      ]
    },
    {
      "cell_type": "code",
      "source": [
        "from pgmpy.inference import VariableElimination\n",
        "\n",
        "infer = VariableElimination(model)\n",
        "# Query 1: Find probability John and Mary calls and no burglary and no earthquake but alarm rings\n",
        "query_1 = infer.query(variables=['JohnCalls','MaryCalls'], evidence={'Burglary':0,'Earthquake':0,'Alarm':1,})\n",
        "print(\"Query 1: Find probability John and Mary calls and no burglary and no earthquake but alarm rings \")\n",
        "print(query_1)\n",
        "print(query_1.values[-1][-1])\n",
        "\n",
        "# Query 2: Probability of John calls\n",
        "query_2 = infer.query(variables=['JohnCalls'], evidence={})\n",
        "print(\"\\nQuery 2: Probability of John calls\")\n",
        "print(query_2)\n",
        "print(query_2.values[-1])\n",
        "\n",
        "# Query 3: Probability of burglary when both John and Mary calls\n",
        "query_3 = infer.query(variables=['Burglary'], evidence={'JohnCalls': 1, 'MaryCalls': 1})\n",
        "print(\"\\nQuery 3: Probability of burglary when both John and Mary calls\")\n",
        "print(query_3)\n",
        "print(query_3.values[-1])"
      ],
      "metadata": {
        "colab": {
          "base_uri": "https://localhost:8080/"
        },
        "id": "glI1cxuG9rYZ",
        "outputId": "a8dbc936-30b8-4cc9-a766-546ac75ed423"
      },
      "execution_count": null,
      "outputs": [
        {
          "output_type": "stream",
          "name": "stdout",
          "text": [
            "Query 1: Find probability John and Mary calls and no burglary and no earthquake but alarm rings \n",
            "+--------------+--------------+----------------------------+\n",
            "| JohnCalls    | MaryCalls    |   phi(JohnCalls,MaryCalls) |\n",
            "+==============+==============+============================+\n",
            "| JohnCalls(0) | MaryCalls(0) |                     0.0005 |\n",
            "+--------------+--------------+----------------------------+\n",
            "| JohnCalls(0) | MaryCalls(1) |                     0.0495 |\n",
            "+--------------+--------------+----------------------------+\n",
            "| JohnCalls(1) | MaryCalls(0) |                     0.0095 |\n",
            "+--------------+--------------+----------------------------+\n",
            "| JohnCalls(1) | MaryCalls(1) |                     0.9405 |\n",
            "+--------------+--------------+----------------------------+\n",
            "0.9405\n",
            "\n",
            "Query 2: Probability of John calls\n",
            "+--------------+------------------+\n",
            "| JohnCalls    |   phi(JohnCalls) |\n",
            "+==============+==================+\n",
            "| JohnCalls(0) |           0.0521 |\n",
            "+--------------+------------------+\n",
            "| JohnCalls(1) |           0.9479 |\n",
            "+--------------+------------------+\n",
            "0.9478610243\n",
            "\n",
            "Query 3: Probability of burglary when both John and Mary calls\n",
            "+-------------+-----------------+\n",
            "| Burglary    |   phi(Burglary) |\n",
            "+=============+=================+\n",
            "| Burglary(0) |          0.0001 |\n",
            "+-------------+-----------------+\n",
            "| Burglary(1) |          0.9999 |\n",
            "+-------------+-----------------+\n",
            "0.9999098156062451\n"
          ]
        }
      ]
    }
  ]
}