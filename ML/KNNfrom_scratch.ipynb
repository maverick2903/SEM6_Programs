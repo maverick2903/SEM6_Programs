{
  "nbformat": 4,
  "nbformat_minor": 0,
  "metadata": {
    "colab": {
      "provenance": [],
      "authorship_tag": "ABX9TyP5JSRrgUTQ3wQ05kUfy196",
      "include_colab_link": true
    },
    "kernelspec": {
      "name": "python3",
      "display_name": "Python 3"
    },
    "language_info": {
      "name": "python"
    }
  },
  "cells": [
    {
      "cell_type": "markdown",
      "metadata": {
        "id": "view-in-github",
        "colab_type": "text"
      },
      "source": [
        "<a href=\"https://colab.research.google.com/github/maverick2903/SEM6_Programs/blob/main/ML/KNNfrom_scratch.ipynb\" target=\"_parent\"><img src=\"https://colab.research.google.com/assets/colab-badge.svg\" alt=\"Open In Colab\"/></a>"
      ]
    },
    {
      "cell_type": "code",
      "source": [
        "import math\n",
        "import pandas as pd\n",
        "\n",
        "class KNN:\n",
        "    def __init__(self, k, method):\n",
        "        self.k = k\n",
        "        self.method = method\n",
        "\n",
        "    def euclidean_dist(self, x1, x2, y1, y2):\n",
        "        return math.sqrt((x1 - x2) ** 2 + (y1 - y2) ** 2)\n",
        "\n",
        "    def predict(self, X_train, X_test, y_train):\n",
        "\n",
        "        predictions = []\n",
        "        for i in range(len(X_test)):\n",
        "            distances = {}\n",
        "\n",
        "            # Calculate distances to all training data points\n",
        "            for j in range(len(X_train)):\n",
        "                distance = self.euclidean_dist(\n",
        "                    X_test.iloc[i][0], X_train.iloc[j][0],\n",
        "                    X_test.iloc[i][1], X_train.iloc[j][1]\n",
        "                )\n",
        "                distances[j] = distance\n",
        "\n",
        "            # Sort data points based on distance\n",
        "            sorted_distances = dict(sorted(distances.items(), key=lambda x: x[1]))\n",
        "\n",
        "            # Find k nearest neighbors\n",
        "            k_nearest = [y_train[key] for key in list(sorted_distances.keys())[:self.k]]\n",
        "\n",
        "\n",
        "            if self.method == 'classification':\n",
        "                prediction = max(set(k_nearest), key=k_nearest.count)\n",
        "            elif self.method == 'regression':\n",
        "                prediction = sum(k_nearest) / self.k\n",
        "            else:\n",
        "                raise ValueError(\"Invalid method. Please choose 'classification' or 'regression'.\")\n",
        "\n",
        "            predictions.append(prediction)\n",
        "\n",
        "        return predictions\n",
        "\n",
        "\n",
        "\n",
        "\n"
      ],
      "metadata": {
        "id": "CLyJ4uk67XV6"
      },
      "execution_count": null,
      "outputs": []
    },
    {
      "cell_type": "markdown",
      "source": [
        "#First dataset"
      ],
      "metadata": {
        "id": "J_LH8uWB-5Ug"
      }
    },
    {
      "cell_type": "code",
      "source": [
        "import pandas as pd\n",
        "import numpy as np\n",
        "\n",
        "# Create a list of data\n",
        "data = [\n",
        "    [5, 45, 77],\n",
        "    [5.11, 26, 47],\n",
        "    [5.6, 30, 55],\n",
        "    [5.9, 34, 59],\n",
        "    [4.8, 40, 72],\n",
        "    [5.8, 36, 60],\n",
        "    [5.3, 19, 40],\n",
        "    [5.8, 28, 60],\n",
        "    [5.5, 23, 45],\n",
        "    [5.6, 32, 58],\n",
        "]\n",
        "\n",
        "# Create a DataFrame\n",
        "df = pd.DataFrame(data, columns=[\"Height\", \"Age\", \"Weight\"])\n",
        "\n",
        "X_train = df[['Height', 'Age']]\n",
        "y_train = df['Weight']\n",
        "X_test = pd.DataFrame({'Height': [5.5], 'Age': [38]})"
      ],
      "metadata": {
        "id": "-vQ9GzHu8uSr"
      },
      "execution_count": null,
      "outputs": []
    },
    {
      "cell_type": "markdown",
      "source": [
        "#Second Dataset"
      ],
      "metadata": {
        "id": "lsHc0ya7-8Kg"
      }
    },
    {
      "cell_type": "code",
      "source": [
        "data = [\n",
        "    [167, 51, \"Underweight\"],\n",
        "    [182, 62, \"Normal\"],\n",
        "    [176, 69, \"Normal\"],\n",
        "    [173, 64, \"Normal\"],\n",
        "    [172, 65, \"Normal\"],\n",
        "    [174, 56, \"Underweight\"],\n",
        "    [169, 58, \"Normal\"],\n",
        "    [173, 57, \"Normal\"],\n",
        "    [170, 55, \"Normal\"],\n",
        "]\n",
        "\n",
        "# Create column names\n",
        "column_names = [\"Height\", \"Weight\", \"Class\"]\n",
        "\n",
        "# Create the DataFrame\n",
        "df = pd.DataFrame(data, columns=column_names)\n",
        "\n",
        "X_train = df[['Height', 'Weight']]\n",
        "y_train = df['Class']\n",
        "X_test = pd.DataFrame({'Height': [170], 'Weight': [57]})"
      ],
      "metadata": {
        "id": "FDw4_K6L80ZT"
      },
      "execution_count": null,
      "outputs": []
    },
    {
      "cell_type": "markdown",
      "source": [
        "#Custom Dataset"
      ],
      "metadata": {
        "id": "Q3x3BLPV--56"
      }
    },
    {
      "cell_type": "code",
      "source": [
        "import pandas as pd\n",
        "from sklearn.datasets import load_breast_cancer\n",
        "from sklearn.model_selection import train_test_split\n",
        "\n",
        "# Load the dataset\n",
        "data = load_breast_cancer()\n",
        "features = pd.DataFrame(data.data)\n",
        "target = data.target\n",
        "\n",
        "# Split data into training and testing sets\n",
        "X_train, X_test, y_train, y_test = train_test_split(features.iloc[:, :2], target, test_size=0.2, random_state=42)\n",
        "\n"
      ],
      "metadata": {
        "id": "1-2CVdlh9fQX"
      },
      "execution_count": null,
      "outputs": []
    },
    {
      "cell_type": "markdown",
      "source": [
        "#Predictions"
      ],
      "metadata": {
        "id": "iO36jHma_Fpr"
      }
    },
    {
      "cell_type": "code",
      "source": [
        "# KNN for classification\n",
        "knn_classifier = KNN(3, 'classification')\n",
        "predicted_labels = knn_classifier.predict(X_train, X_test, y_train)\n",
        "print(\"Predicted Labels (Classification):\", predicted_labels)"
      ],
      "metadata": {
        "colab": {
          "base_uri": "https://localhost:8080/"
        },
        "id": "hBSt3nNw7psa",
        "outputId": "4464ceb3-e9a1-4cb7-b3b6-70972319095a"
      },
      "execution_count": null,
      "outputs": [
        {
          "output_type": "stream",
          "name": "stdout",
          "text": [
            "Predicted Labels (Classification): [1, 0, 0, 1, 1, 0, 0, 1, 1, 1, 0, 0, 0, 0, 1, 0, 1, 1, 1, 0, 1, 1, 0, 1, 1, 1, 1, 1, 1, 0, 1, 1, 1, 1, 1, 1, 0, 1, 0, 0, 1, 0, 1, 1, 1, 1, 1, 1, 1, 1, 0, 0, 0, 1, 1, 1, 1, 0, 0, 1, 1, 0, 0, 1, 1, 1, 0, 0, 1, 1, 1, 0, 1, 0, 1, 1, 0, 1, 1, 1, 0, 1, 0, 0, 0, 1, 1, 0, 0, 1, 1, 1, 0, 1, 1, 1, 0, 1, 1, 0, 0, 1, 0, 0, 1, 1, 1, 0, 1, 1, 0, 1, 1, 0]\n"
          ]
        }
      ]
    },
    {
      "cell_type": "code",
      "source": [
        "# KNN for regression\n",
        "knn_regressor = KNN(3, 'regression')\n",
        "predicted_values = knn_regressor.predict(X_train, X_test, y_train)\n",
        "print(\"Predicted Values (Regression):\", predicted_values)"
      ],
      "metadata": {
        "colab": {
          "base_uri": "https://localhost:8080/"
        },
        "id": "4wbR9_dn9OSr",
        "outputId": "9a018660-4f89-4707-a60d-741b3ed3a424"
      },
      "execution_count": null,
      "outputs": [
        {
          "output_type": "stream",
          "name": "stdout",
          "text": [
            "Predicted Values (Regression): [1.0, 0.0, 0.0, 1.0, 1.0, 0.0, 0.0, 0.6666666666666666, 0.6666666666666666, 0.6666666666666666, 0.3333333333333333, 0.3333333333333333, 0.3333333333333333, 0.0, 1.0, 0.0, 1.0, 1.0, 1.0, 0.0, 1.0, 1.0, 0.0, 1.0, 1.0, 1.0, 1.0, 1.0, 0.6666666666666666, 0.0, 1.0, 1.0, 1.0, 1.0, 1.0, 1.0, 0.0, 1.0, 0.0, 0.0, 1.0, 0.3333333333333333, 1.0, 0.6666666666666666, 1.0, 0.6666666666666666, 1.0, 1.0, 0.6666666666666666, 1.0, 0.0, 0.0, 0.3333333333333333, 1.0, 1.0, 1.0, 1.0, 0.0, 0.3333333333333333, 1.0, 1.0, 0.0, 0.0, 0.6666666666666666, 1.0, 0.6666666666666666, 0.0, 0.0, 1.0, 1.0, 0.6666666666666666, 0.3333333333333333, 0.6666666666666666, 0.0, 1.0, 1.0, 0.3333333333333333, 0.6666666666666666, 1.0, 1.0, 0.0, 1.0, 0.0, 0.0, 0.0, 0.6666666666666666, 0.6666666666666666, 0.0, 0.3333333333333333, 1.0, 0.6666666666666666, 0.6666666666666666, 0.3333333333333333, 1.0, 0.6666666666666666, 1.0, 0.0, 0.6666666666666666, 1.0, 0.0, 0.0, 1.0, 0.0, 0.0, 1.0, 1.0, 0.6666666666666666, 0.0, 1.0, 0.6666666666666666, 0.0, 1.0, 0.6666666666666666, 0.0]\n"
          ]
        }
      ]
    }
  ]
}